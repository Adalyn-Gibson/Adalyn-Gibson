{
 "cells": [
  {
   "cell_type": "code",
   "execution_count": 5,
   "id": "0369583f",
   "metadata": {
    "scrolled": true
   },
   "outputs": [
    {
     "name": "stdout",
     "output_type": "stream",
     "text": [
      "The autoreload extension is already loaded. To reload it, use:\n",
      "  %reload_ext autoreload\n"
     ]
    }
   ],
   "source": [
    "import os\n",
    "import sys\n",
    "import copy\n",
    "import pickle\n",
    "import numpy as np\n",
    "import scipy as sci\n",
    "import pandas as pd\n",
    "from tqdm import tqdm\n",
    "import matplotlib as mpl\n",
    "from astropy import units \n",
    "import ChiantiPy.core as ch\n",
    "from astropy.io import ascii\n",
    "import matplotlib.pyplot as plt\n",
    "from astropy.table import Table\n",
    "from astropy.table import Column\n",
    "import astropy.constants as const\n",
    "from dynesty import utils as dyfunc\n",
    "from dynesty.plotting import _quantile\n",
    "from scipy.interpolate import interp1d\n",
    "from dynesty import DynamicNestedSampler\n",
    "\n",
    "from lmfit.models import Model\n",
    "from specutils import Spectrum1D, SpectralRegion\n",
    "from specutils.analysis import line_flux, equivalent_width\n",
    "from astropy.nddata import StdDevUncertainty, NDUncertainty\n",
    "\n",
    "distance = (9.72*units.pc).to(units.cm)\n",
    "distanceErr = (0.004625*units.pc).to(units.cm)\n",
    "radius   = (0.75*units.Rsun).to(units.cm)\n",
    "radiusErr= (0.03*units.Rsun).to(units.cm)\n",
    "\n",
    "%load_ext autoreload\n",
    "%autoreload 2\n",
    "\n",
    "sys.path.append('/Users/arcticfox/Documents/GitHub/cos_flares/src/')\n",
    "from dem_modeling import ChiantiSetup, DEMModeling, setup_linelist\n",
    "from utils import *\n",
    "from cos_flares import FlaresWithCOS"
   ]
  },
  {
   "cell_type": "markdown",
   "id": "e585677a",
   "metadata": {},
   "source": [
    "## The Line Table Input\n",
    "\n",
    "This table must have the following columns:\n",
    "- Ion : ion name.\n",
    "- wave_obs : observed center wavelength (Wavelength = center in vacuum).\n",
    "- wmin : lower/bluer wavelength end of the line.\n",
    "- wmax : upper/redder wavelength end of the line.\n",
    "- quality : an array of 0s and 1s indicating whether to use that line or not."
   ]
  },
  {
   "cell_type": "code",
   "execution_count": 2,
   "id": "cc91602f",
   "metadata": {},
   "outputs": [],
   "source": [
    "line_table = Table.read('/Users/arcticfox/Documents/AUMic/aumic_linelist.csv',\n",
    "                        format='csv', comment='#')"
   ]
  },
  {
   "cell_type": "code",
   "execution_count": 4,
   "id": "ab2ea945",
   "metadata": {},
   "outputs": [
    {
     "data": {
      "text/html": [
       "<div><i>Table length=3</i>\n",
       "<table id=\"table4394616672\" class=\"table-striped table-bordered table-condensed\">\n",
       "<thead><tr><th>Ion</th><th>Wavelength</th><th>Questionable</th><th>Fluorescent</th><th>Forest</th><th>velocity_offset</th><th>wave_obs</th><th>vmin</th><th>vmax</th><th>wmin</th><th>wmax</th><th>quality</th></tr></thead>\n",
       "<thead><tr><th>str7</th><th>float64</th><th>str1</th><th>str1</th><th>int64</th><th>float64</th><th>float64</th><th>float64</th><th>float64</th><th>float64</th><th>float64</th><th>float64</th></tr></thead>\n",
       "<tr><td>N II</td><td>1083.99</td><td>--</td><td>--</td><td>16</td><td>-2.6686968467985728</td><td>1083.9868159796877</td><td>-75.0</td><td>75.0</td><td>1083.7191686926449</td><td>1084.2688128929528</td><td>0.0</td></tr>\n",
       "<tr><td>N II</td><td>1084.58</td><td>--</td><td>--</td><td>16</td><td>-2.6672495037960195</td><td>1084.5720700324375</td><td>-75.0</td><td>40.0</td><td>1084.3073844157816</td><td>1084.7220282861895</td><td>0.0</td></tr>\n",
       "<tr><td>He II</td><td>1084.94</td><td>?</td><td>--</td><td>16</td><td>-5.332744743826398</td><td>1084.9186227666814</td><td>-75.0</td><td>75.0</td><td>1084.6545281212393</td><td>1085.2041723215475</td><td>0.0</td></tr>\n",
       "</table></div>"
      ],
      "text/plain": [
       "<Table length=3>\n",
       " Ion  Wavelength Questionable Fluorescent Forest   velocity_offset        wave_obs        vmin    vmax         wmin               wmax        quality\n",
       " str7  float64       str1         str1    int64        float64            float64       float64 float64      float64            float64       float64\n",
       "----- ---------- ------------ ----------- ------ ------------------- ------------------ ------- ------- ------------------ ------------------ -------\n",
       " N II    1083.99           --          --     16 -2.6686968467985728 1083.9868159796877   -75.0    75.0 1083.7191686926449 1084.2688128929528     0.0\n",
       " N II    1084.58           --          --     16 -2.6672495037960195 1084.5720700324375   -75.0    40.0 1084.3073844157816 1084.7220282861895     0.0\n",
       "He II    1084.94            ?          --     16  -5.332744743826398 1084.9186227666814   -75.0    75.0 1084.6545281212393 1085.2041723215475     0.0"
      ]
     },
     "execution_count": 4,
     "metadata": {},
     "output_type": "execute_result"
    }
   ],
   "source": [
    "line_table[:3]"
   ]
  },
  {
   "cell_type": "markdown",
   "id": "1a8b06c6",
   "metadata": {},
   "source": [
    "## HST/COS specific setup to get wavelength & spectrum"
   ]
  },
  {
   "cell_type": "code",
   "execution_count": null,
   "id": "445cd68c",
   "metadata": {},
   "outputs": [],
   "source": [
    "def load_data(path):\n",
    "    wavelength, flux, err = load_binned_data(os.path.join(path,'interp_between_1.npy'))\n",
    "\n",
    "    times = np.load(os.path.join(path,'times.npy'))\n",
    "    orbits = np.load(os.path.join(path,'orbits.npy'))\n",
    "\n",
    "    wavelength = np.full(flux.shape, wavelength)\n",
    "    return wavelength, flux, err, times, orbits\n",
    "\n",
    "w20, f20, e20, t20, o20 = load_data(path='/Users/arcticfox/Documents/AUMic/30s/reduced')\n",
    "w30, f30, e30, t30, o30 = load_data(path='/Users/arcticfox/Documents/AUMic/30s/reduced2')\n",
    "\n",
    "_, flare_orbits, flare_mask = np.load('/Users/arcticfox/Documents/AUMic/flare_mask2.npy',\n",
    "                                      allow_pickle=True)"
   ]
  },
  {
   "cell_type": "code",
   "execution_count": null,
   "id": "f62c6e8c",
   "metadata": {},
   "outputs": [],
   "source": [
    "fwc = FlaresWithCOS(wavelength=np.append(w20, w30, axis=0), \n",
    "                    flux=np.append(f20, f30, axis=0),\n",
    "                    flux_err=np.append(e20, e30, axis=0), \n",
    "                    time=np.append(t20, t30)-t20[0], \n",
    "                    orbit=np.append(o20, o30+5))\n",
    "fwc.load_line_table(path='/Users/arcticfox/Documents/GitHub/cos_flares/')"
   ]
  },
  {
   "cell_type": "code",
   "execution_count": null,
   "id": "8db42093",
   "metadata": {},
   "outputs": [],
   "source": [
    "mq = np.nansum(flare_mask,axis=0)==0\n",
    "mean_quiescent = np.nanmean(fwc.flux[mq],axis=0)\n",
    "mean_quiexcent_err = np.sqrt(np.nansum(fwc.flux_err[mq]**2, axis=0))/len(fwc.flux_err[mq])"
   ]
  },
  {
   "cell_type": "markdown",
   "id": "2e73baa6",
   "metadata": {},
   "source": [
    "## Creating the line list dictionary"
   ]
  },
  {
   "cell_type": "code",
   "execution_count": null,
   "id": "0b2d4a6c",
   "metadata": {},
   "outputs": [],
   "source": [
    "aumic_linelist = setup_linelist(fwc.wavelength[0], # wavelength array\n",
    "                                mean_quiescent,    # spectrum\n",
    "                                mean_quiexcent_err,# spectrum error\n",
    "                                line_table,        # table of ions\n",
    "                                distance, distanceErr, # distance & error\n",
    "                                radius, radiusErr) # stellar radius & error"
   ]
  },
  {
   "cell_type": "code",
   "execution_count": null,
   "id": "3faac63c",
   "metadata": {},
   "outputs": [],
   "source": [
    "pickle.dump(aumic_linelist, open('aumic_linelist.pkl','wb'))"
   ]
  },
  {
   "cell_type": "markdown",
   "id": "1759416f",
   "metadata": {},
   "source": [
    "## Setting up files from Chianti"
   ]
  },
  {
   "cell_type": "code",
   "execution_count": null,
   "id": "c33a3e45",
   "metadata": {},
   "outputs": [],
   "source": [
    "cs = ChiantiSetup(linelist=aumic_linelist,\n",
    "                  logT_range=[4,8],\n",
    "                  wave_range=[1,3200])"
   ]
  },
  {
   "cell_type": "code",
   "execution_count": null,
   "id": "98ba8048",
   "metadata": {},
   "outputs": [],
   "source": [
    "cs.emissivity_functions()"
   ]
  },
  {
   "cell_type": "code",
   "execution_count": null,
   "id": "2f00ac9b",
   "metadata": {},
   "outputs": [],
   "source": [
    "cs.get_all_ions(top=30)"
   ]
  },
  {
   "cell_type": "code",
   "execution_count": null,
   "id": "de87baca",
   "metadata": {},
   "outputs": [],
   "source": [
    "pickle.dump(cs.G_T, open('aumic_G_T.pkl','wb'))\n",
    "pickle.dump(cs.linelist, open('aumic_linelist_updated.pkl', 'wb'))"
   ]
  },
  {
   "cell_type": "markdown",
   "id": "614c73a7",
   "metadata": {},
   "source": [
    "## DEM Modeling"
   ]
  },
  {
   "cell_type": "code",
   "execution_count": null,
   "id": "cdc4eb23",
   "metadata": {
    "scrolled": true
   },
   "outputs": [],
   "source": [
    "lines = pd.read_pickle(r'aumic_linelist_updated.pkl')\n",
    "#lines.pop('H2')\n",
    "#lines.pop('SiI')\n",
    "G_T = pd.read_pickle(r'aumic_G_T.pkl')"
   ]
  },
  {
   "cell_type": "code",
   "execution_count": null,
   "id": "710cc62b",
   "metadata": {},
   "outputs": [],
   "source": [
    "dem = DEMModeling(linelist=lines,\n",
    "                  G_T=cs.G_T,\n",
    "                  logT_range=cs.logT_range)"
   ]
  },
  {
   "cell_type": "code",
   "execution_count": null,
   "id": "6dacfe06",
   "metadata": {},
   "outputs": [],
   "source": [
    "dem.create_DEM(quick_plot=True, specified_lines=list(dem.linelist.keys()))"
   ]
  },
  {
   "cell_type": "code",
   "execution_count": null,
   "id": "47545424",
   "metadata": {},
   "outputs": [],
   "source": [
    "dem.estimate_EUV_from_DEM()"
   ]
  },
  {
   "cell_type": "code",
   "execution_count": null,
   "id": "6c7f5d37",
   "metadata": {},
   "outputs": [],
   "source": [
    "pickle.dump(dem.linelist, open('aumic_dem_models.pkl','wb'))"
   ]
  }
 ],
 "metadata": {
  "kernelspec": {
   "display_name": "Python 3 (ipykernel)",
   "language": "python",
   "name": "python3"
  },
  "language_info": {
   "codemirror_mode": {
    "name": "ipython",
    "version": 3
   },
   "file_extension": ".py",
   "mimetype": "text/x-python",
   "name": "python",
   "nbconvert_exporter": "python",
   "pygments_lexer": "ipython3",
   "version": "3.9.7"
  }
 },
 "nbformat": 4,
 "nbformat_minor": 5
}
