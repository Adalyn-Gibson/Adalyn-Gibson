{
 "cells": [
  {
   "cell_type": "code",
   "execution_count": 1,
   "id": "305d6e30",
   "metadata": {},
   "outputs": [],
   "source": [
    "import os, sys\n",
    "import numpy as np\n",
    "from astropy import units, constants\n",
    "from astropy.io import fits\n",
    "from tqdm import tqdm_notebook\n",
    "import matplotlib.pyplot as plt\n",
    "from astropy.table import Table, Column\n",
    "from scipy.optimize import minimize, curve_fit\n",
    "from lightkurve.lightcurve import LightCurve\n",
    "from scipy.signal import find_peaks, gaussian\n",
    "from scipy.interpolate import interp1d\n",
    "from lmfit import Model\n",
    "import lmfit, emcee\n",
    "from lightkurve.lightcurve import LightCurve\n",
    "from plasmapy.formulary.radiation import thermal_bremsstrahlung\n",
    "\n",
    "import warnings\n",
    "warnings.filterwarnings(\"ignore\")\n",
    "\n",
    "from astropy.modeling import models\n",
    "from astropy.nddata import NDUncertainty"
   ]
  },
  {
   "cell_type": "code",
   "execution_count": 2,
   "id": "e51b4294",
   "metadata": {},
   "outputs": [],
   "source": [
    "wavelength, flux, flux_err = np.load('continuum_bump.npy', allow_pickle=True)"
   ]
  },
  {
   "cell_type": "markdown",
   "id": "3f19d0fb",
   "metadata": {},
   "source": [
    "## For MCMC fits"
   ]
  },
  {
   "cell_type": "code",
   "execution_count": 3,
   "id": "7ea4afda",
   "metadata": {},
   "outputs": [],
   "source": [
    "def log_likelihood(theta, x, y, yerr):\n",
    "    T, scaling = theta\n",
    "    model = bb(x, T, scaling)\n",
    "    sigma2 = yerr ** 2 + model ** 2 #* np.exp(2 * log_f)\n",
    "    return -0.5 * np.sum((y - model) ** 2 / sigma2 + np.log(sigma2))\n",
    "\n",
    "def log_prior(theta):\n",
    "    T, scaling = theta\n",
    "    if T > 1e4 and T < 1e10 and scaling > 0.0:\n",
    "        return 0.0\n",
    "    return -np.inf\n",
    "\n",
    "def log_probability(theta, x, y, yerr):\n",
    "    lp = log_prior(theta)\n",
    "    if not np.isfinite(lp):\n",
    "        return -np.inf\n",
    "    return lp + log_likelihood(theta, x, y, yerr)"
   ]
  },
  {
   "cell_type": "markdown",
   "id": "a357ca0e",
   "metadata": {},
   "source": [
    "## Blackbody function"
   ]
  },
  {
   "cell_type": "code",
   "execution_count": 4,
   "id": "289abe03",
   "metadata": {},
   "outputs": [],
   "source": [
    "def bb(x, T, scaling):\n",
    "    T *= units.K\n",
    "    x *= units.AA\n",
    "    frac = 2.0 * constants.h * constants.c**2 / x**5\n",
    "    exp = (constants.h * constants.c) / (x * constants.k_B * T)\n",
    "    func =  frac * 1.0/(np.exp(exp) - 1.0)\n",
    "    func = func.to(units.erg/units.s/units.AA/units.cm**2)\n",
    "    return func"
   ]
  },
  {
   "cell_type": "markdown",
   "id": "d27eb1a1",
   "metadata": {},
   "source": [
    "## Thermal Bremsstrahlung function\n",
    "\n",
    "Reference: https://casper.astro.berkeley.edu/astrobaki/index.php/Thermal_Bremsstrahlung"
   ]
  },
  {
   "cell_type": "markdown",
   "id": "6c02237a",
   "metadata": {},
   "source": [
    "$j_{\\nu, ff} = \\frac{16}{3 \\sqrt{2 \\pi}} \\frac{Z^2 e^6}{m_e^{3/2} c^3 (kT)^{1/2}} n_e^2 e^{-h\\nu/kT}$"
   ]
  },
  {
   "cell_type": "code",
   "execution_count": 5,
   "id": "3f4d5750",
   "metadata": {},
   "outputs": [],
   "source": [
    "def j_ff(mu, T, Z, ne):\n",
    "    term1 = 16.0 / (3.0 * np.sqrt(2*np.pi))\n",
    "    term2 = Z**2/(constants.m_e**1.5 * constants.c**3 * np.sqrt(constants.k_B * T))\n",
    "    frac = (constants.h * mu) / (constants.k_B * T)\n",
    "    j = term1 * term2 * ne**2.0 * np.exp(-frac)\n",
    "    return j"
   ]
  },
  {
   "cell_type": "markdown",
   "id": "5cc16f37",
   "metadata": {},
   "source": [
    "$a_{\\nu, ff} = \\frac{8}{3 \\sqrt{2 \\pi}} \\frac{Z^2 e^6}{m_e^{3/2} c (kT)^{1/2}} \\frac{n_e^2}{h \\nu^3} \\left( 1 - e^{-h\\nu/kt}\\right)$"
   ]
  },
  {
   "cell_type": "code",
   "execution_count": 6,
   "id": "778d0ce5",
   "metadata": {},
   "outputs": [],
   "source": [
    "def a_ff(mu, T, Z, ne):\n",
    "    term1 = 8.0 / (3 * np.sqrt(2*np.pi))\n",
    "    term2 = Z**2 / (constants.m_e**1.5 * constants.c * np.sqrt(constants.k_B * T))\n",
    "    term3 = ne**2 / (constants.h * mu**3)\n",
    "    frac = (constants.h * mu) / (constants.k_B * T)\n",
    "    return term1 * term2 * term3 * (1 - np.exp(-frac))"
   ]
  },
  {
   "cell_type": "markdown",
   "id": "7fdf1484",
   "metadata": {},
   "source": [
    "## PlasmaPy thermal bremsstrahlung"
   ]
  },
  {
   "cell_type": "code",
   "execution_count": 7,
   "id": "014880c2",
   "metadata": {},
   "outputs": [],
   "source": [
    "def plasma_brem(x, Te, ne, scaling, offset):\n",
    "    spectrum = thermal_bremsstrahlung(x, ne*units.cm**-3, Te*units.K)\n",
    "    s = spectrum.to(units.erg /units.s * units.s / units.cm ** 2 / units.AA)\n",
    "    s = s/(25000*2*units.s)\n",
    "    s = np.log10(s.value)/scaling+offset\n",
    "    return s"
   ]
  },
  {
   "cell_type": "markdown",
   "id": "026eb20a",
   "metadata": {},
   "source": [
    "## Plotting & Comparing models"
   ]
  },
  {
   "cell_type": "code",
   "execution_count": 83,
   "id": "214d56d1",
   "metadata": {},
   "outputs": [
    {
     "data": {
      "text/plain": [
       "(500.0, 1500.0)"
      ]
     },
     "execution_count": 83,
     "metadata": {},
     "output_type": "execute_result"
    },
    {
     "data": {
      "image/png": "[encoded data removed]",
      "text/plain": [
       "<Figure size 432x288 with 1 Axes>"
      ]
     },
     "metadata": {
      "needs_background": "light"
     },
     "output_type": "display_data"
    }
   ],
   "source": [
    "w = np.arange(0.000001,600000,1)*units.AA  # wavelengths to evaluate over\n",
    "mu = (constants.c/w).to(units.Hz)        # frequency\n",
    "\n",
    "T = 5000*units.K         # Temperature\n",
    "ne = 1e8*units.cm**-3    # electron number density\n",
    "Z = 1\n",
    "j = j_ff(mu, T, Z, ne)   # volume emissivity\n",
    "a = a_ff(mu, T, Z, ne)   # inverse bremsstrahlung\n",
    "\n",
    "#plt.loglog(mu, (j/a).to(units.erg/units.m**2)/100)\n",
    "\n",
    "\n",
    "plt.errorbar(wavelength[0],\n",
    "              flux[0], \n",
    "              yerr=flux_err[0],\n",
    "              marker='o', linestyle='', color='k', zorder=2)\n",
    "\n",
    "plt.plot(np.arange(0,3200,1),\n",
    "         bb(np.arange(0,3200,1), 4.5*10**4, 1).value/3e23)\n",
    "#plt.yscale('log')\n",
    "plt.xlim(500,1500)\n",
    "#plt.ylim(10**-22, 10**-3)"
   ]
  },
  {
   "cell_type": "code",
   "execution_count": 84,
   "id": "af60f632",
   "metadata": {
    "scrolled": true
   },
   "outputs": [
    {
     "data": {
      "text/plain": [
       "array([1068.50127314, 1069.50127314, 1075.50127314, 1076.50127314,\n",
       "       1079.50127314, 1080.50127314, 1081.50127314, 1088.50127314,\n",
       "       1089.50127314, 1090.50127314])"
      ]
     },
     "execution_count": 84,
     "metadata": {},
     "output_type": "execute_result"
    }
   ],
   "source": [
    "wavelength[0]"
   ]
  },
  {
   "cell_type": "code",
   "execution_count": 57,
   "id": "33f30f24",
   "metadata": {},
   "outputs": [
    {
     "data": {
      "text/plain": [
       "[<matplotlib.lines.Line2D at 0x7fb92209f970>]"
      ]
     },
     "execution_count": 57,
     "metadata": {},
     "output_type": "execute_result"
    },
    {
     "data": {
      "image/png": "[encoded data removed]",
      "text/plain": [
       "<Figure size 432x288 with 1 Axes>"
      ]
     },
     "metadata": {
      "needs_background": "light"
     },
     "output_type": "display_data"
    }
   ],
   "source": [
    "plasma = plasma_brem(np.linspace(3e16, 3e22, 100), 10**13, 4*10**22, 10, 0)\n",
    "plt.loglog(np.linspace(3e16, 3e22, 100), 10**plasma, 'r')"
   ]
  },
  {
   "cell_type": "code",
   "execution_count": null,
   "id": "8e303c03",
   "metadata": {},
   "outputs": [],
   "source": []
  }
 ],
 "metadata": {
  "kernelspec": {
   "display_name": "Python 3 (ipykernel)",
   "language": "python",
   "name": "python3"
  },
  "language_info": {
   "codemirror_mode": {
    "name": "ipython",
    "version": 3
   },
   "file_extension": ".py",
   "mimetype": "text/x-python",
   "name": "python",
   "nbconvert_exporter": "python",
   "pygments_lexer": "ipython3",
   "version": "3.9.7"
  }
 },
 "nbformat": 4,
 "nbformat_minor": 5
}
