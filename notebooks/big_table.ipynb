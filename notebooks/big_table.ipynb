{
 "cells": [
  {
   "cell_type": "code",
   "execution_count": 20,
   "id": "d3b35fba",
   "metadata": {},
   "outputs": [],
   "source": [
    "import os\n",
    "import pickle\n",
    "import numpy as np\n",
    "import pandas as pd\n",
    "from astropy.table import Table\n",
    "import matplotlib.pyplot as plt\n",
    "\n",
    "COLOR = 'k'\n",
    "plt.rcParams['font.size'] = 20\n",
    "plt.rcParams['text.color'] = COLOR\n",
    "plt.rcParams['axes.labelcolor'] = COLOR\n",
    "plt.rcParams['xtick.color'] = COLOR\n",
    "plt.rcParams['ytick.color'] = COLOR\n",
    "\n",
    "plt.rcParams['xtick.major.width'] = 3\n",
    "plt.rcParams['ytick.major.width'] = 3\n",
    "plt.rcParams['xtick.major.size']  = 10 #12\n",
    "plt.rcParams['ytick.major.size']  = 10 #12\n",
    "\n",
    "plt.rcParams['xtick.minor.width'] = 1\n",
    "plt.rcParams['ytick.minor.width'] = 1\n",
    "plt.rcParams['xtick.minor.size']  = 6\n",
    "plt.rcParams['ytick.minor.size']  = 6\n",
    "\n",
    "plt.rcParams['axes.linewidth'] = 3\n",
    "\n",
    "plt.rcParams['font.size'] = 20\n",
    "plt.rcParams['text.color'] = COLOR\n",
    "plt.rcParams['xtick.color'] = COLOR\n",
    "plt.rcParams['ytick.color'] = COLOR\n",
    "plt.rcParams['axes.labelcolor'] = COLOR\n",
    "plt.rcParams['axes.spines.top'] = True\n",
    "plt.rcParams['axes.spines.right'] = True\n",
    "plt.rcParams['axes.labelcolor'] = COLOR\n",
    "plt.rcParams['axes.edgecolor'] = COLOR\n",
    "plt.rcParams['figure.facecolor'] = 'none'\n",
    "plt.rcParams['legend.facecolor'] = 'none'\n",
    "\n",
    "parula=np.load('/Users/arcticfox/parula_colors.npy', allow_pickle=True)"
   ]
  },
  {
   "cell_type": "code",
   "execution_count": 2,
   "id": "98be805a",
   "metadata": {},
   "outputs": [],
   "source": [
    "line_table = Table.read('/Users/arcticfox/Documents/AUMic/aumic_linelist.csv',\n",
    "                        format='csv', comment='#')\n",
    "line_table = line_table[line_table['X-ray']==0]\n",
    "\n",
    "dict_path = '/Users/arcticfox/Documents/AUMic/'\n",
    "qdict = pd.read_pickle(os.path.join(dict_path, r'aumic_q_linelist_updated.pkl'))\n",
    "fdict = pd.read_pickle(os.path.join(dict_path, r'aumic_f_linelist_updated.pkl'))"
   ]
  },
  {
   "cell_type": "code",
   "execution_count": 3,
   "id": "30f7fadd",
   "metadata": {},
   "outputs": [],
   "source": [
    "actual_keys = np.zeros(len(line_table), dtype='U10')\n",
    "for i in range(len(line_table)):\n",
    "    actual_keys[i] = ''.join(line_table['Ion'][i].split(' '))"
   ]
  },
  {
   "cell_type": "code",
   "execution_count": 82,
   "id": "d38d9e75",
   "metadata": {},
   "outputs": [
    {
     "name": "stderr",
     "output_type": "stream",
     "text": [
      "/Users/arcticfox/opt/anaconda3/lib/python3.9/site-packages/numpy/ma/core.py:6852: RuntimeWarning: overflow encountered in power\n",
      "  result = np.where(m, fa, umath.power(fa, fb)).view(basetype)\n",
      "/var/folders/gz/h7_ym7m52dlgq4xpllc1x3m40000gn/T/ipykernel_1079/406541682.py:54: MatplotlibDeprecationWarning: savefig() got unexpected keyword argument \"rasterize\" which is no longer supported as of 3.3 and will become an error two minor releases later\n",
      "  plt.savefig('/Users/arcticfox/Documents/AUMic/paper/table3.pdf',\n"
     ]
    },
    {
     "data": {
      "image/png": "[encoded data removed]",
      "text/plain": [
       "<Figure size 720x432 with 1 Axes>"
      ]
     },
     "metadata": {
      "needs_background": "light"
     },
     "output_type": "display_data"
    }
   ],
   "source": [
    "tab = Table(names=['\\colhead{Ion}','\\colhead{$\\lambda_\\textrm{rest}$ [\\AA]}',\n",
    "                   '\\colhead{$\\lambda_\\textrm{obs}$ [\\AA]}','\\colhead{Velocity Shift [km s$^{-1}$]}',\n",
    "                   '\\colhead{Flux (Quiescent)}','\\colhead{FWHM (Quiescent)}',\n",
    "                   '\\colhead{Flux (Flare B)}','\\colhead{FWHM (Flare B)}'],\n",
    "           dtype=['U10', np.float64, np.float64, np.float64, 'U20', 'U20', 'U20', 'U20'])\n",
    "\n",
    "scale = 1e-15\n",
    "\n",
    "plt.figure(figsize=(10,6))\n",
    "for i in range(len(line_table)):\n",
    "    k = ''.join(line_table['Ion'][i].split(' '))\n",
    "    wo = line_table[i]['wave_obs']+0.0\n",
    "    try:\n",
    "        closest = np.argmin(np.abs(wo-qdict[k]['centers']))\n",
    "        fq = np.round(qdict[k]['Fline'][closest]/scale,2)\n",
    "        fqe= np.round(qdict[k]['FlineErr'][closest]/scale,2)\n",
    "        \n",
    "        fwhm_q = qdict[k]['sig'][closest]*2*np.sqrt(2*np.log(2))\n",
    "        fwhm_qe= qdict[k]['sigErr'][closest]*2*np.sqrt(2*np.log(2))\n",
    "\n",
    "        ff = np.round(fdict[k]['Fline'][closest]/scale,2)\n",
    "        ffe= np.round(fdict[k]['FlineErr'][closest]/scale,2)\n",
    "        \n",
    "        fwhm_f = fdict[k]['sig'][closest]*2*np.sqrt(2*np.log(2))\n",
    "        fwhm_fe= fdict[k]['sigErr'][closest]*2*np.sqrt(2*np.log(2))\n",
    "        #print(ff, ffe)\n",
    "        plt.errorbar(fq,ff, c='k',\n",
    "                     #yerr=ffe/np.log(10)/np.pi, xerr=fqe/np.log(10)/np.pi,\n",
    "                     alpha=0.2,\n",
    "                     marker='',zorder=10)\n",
    "        plt.errorbar(fq,ff, c='k',                    \n",
    "                     marker='o',zorder=10)\n",
    "\n",
    "        tab.add_row([line_table['Ion'][i], \n",
    "                         np.round(line_table['Wavelength'][i],2),\n",
    "                     np.round(line_table['wave_obs'][i],2),\n",
    "                     np.round(line_table['velocity_offset'][i],2),\n",
    "                     ' '.join(str(e) for e in [np.round(fq,2), '$\\pm$', np.round(fqe,2)]),\n",
    "                     ' '.join(str(e) for e in [np.round(fwhm_q,2), '$\\pm$', np.round(fwhm_qe,2)]),\n",
    "                     ' '.join(str(e) for e in [np.round(ff,2), '$\\pm$', np.round(ffe,2)]),\n",
    "                     ' '.join(str(e) for e in [np.round(fwhm_f,2), '$\\pm$', np.round(fwhm_fe,2)])\n",
    "                    ])\n",
    "    except:\n",
    "        pass\n",
    "    #print(k, fq/scale, fqe/scale)\n",
    "plt.plot(np.logspace(-3,300,10), np.logspace(-3,300,10), zorder=1, \n",
    "         color=parula[80], lw=3)\n",
    "plt.yscale('log')\n",
    "plt.xscale('log')\n",
    "plt.xlim(0.3,200)\n",
    "plt.ylim(0.3,200)\n",
    "plt.xlabel('Quiescent Flux [x $10^{-15}$ erg / s / cm$^{-2}$]')\n",
    "plt.ylabel('Flare B Flux [x $10^{-15}$ erg / s / cm$^{-2}$]')\n",
    "plt.savefig('/Users/arcticfox/Documents/AUMic/paper/table3.pdf',\n",
    "            rasterize=300, dpi=300, bbox_inches='tight')"
   ]
  },
  {
   "cell_type": "code",
   "execution_count": 5,
   "id": "57adfee5",
   "metadata": {},
   "outputs": [
    {
     "name": "stderr",
     "output_type": "stream",
     "text": [
      "WARNING: AstropyDeprecationWarning: ion_list.txt already exists. Automatically overwriting ASCII files is deprecated. Use the argument 'overwrite=True' in the future. [astropy.io.ascii.ui]\n"
     ]
    }
   ],
   "source": [
    "tab.write('ion_list.txt', format='ascii.latex')"
   ]
  },
  {
   "cell_type": "code",
   "execution_count": 55,
   "id": "41c3af28",
   "metadata": {},
   "outputs": [
    {
     "data": {
      "text/html": [
       "<div><i>Table length=192</i>\n",
       "<table id=\"table5186815024\" class=\"table-striped table-bordered table-condensed\">\n",
       "<thead><tr><th>\\colhead{Ion}</th><th>\\colhead{$\\lambda_\textrm{rest}$ [\\AA]}</th><th>\\colhead{$\\lambda_\textrm{obs}$ [\\AA]}</th><th>\\colhead{Velocity Shift [km s$^{-1}$]}</th><th>\\colhead{Flux (Quiescent)}</th><th>\\colhead{FWHM (Quiescent)}</th><th>\\colhead{Flux (Flare B)}</th><th>\\colhead{FWHM (Flare B)}</th></tr></thead>\n",
       "<thead><tr><th>str10</th><th>float64</th><th>float64</th><th>float64</th><th>str20</th><th>str20</th><th>str20</th><th>str20</th></tr></thead>\n",
       "<tr><td>N II</td><td>1083.99</td><td>1083.99</td><td>-2.67</td><td>4.26 $\\pm$ 5.4</td><td>0.26 $\\pm$ 0.02</td><td>5.58 $\\pm$ 21.29</td><td>0.17 $\\pm$ 0.03</td></tr>\n",
       "<tr><td>N II</td><td>1084.58</td><td>1084.57</td><td>-2.67</td><td>8.22 $\\pm$ 4.54</td><td>0.29 $\\pm$ 0.02</td><td>10.96 $\\pm$ 17.9</td><td>0.33 $\\pm$ 0.09</td></tr>\n",
       "<tr><td>He II</td><td>1084.94</td><td>1084.92</td><td>-5.33</td><td>24.57 $\\pm$ 5.01</td><td>0.27 $\\pm$ 0.01</td><td>32.28 $\\pm$ 19.8</td><td>0.25 $\\pm$ 0.03</td></tr>\n",
       "<tr><td>N II</td><td>1085.54</td><td>1085.56</td><td>5.33</td><td>16.98 $\\pm$ 5.17</td><td>0.32 $\\pm$ 0.01</td><td>21.3 $\\pm$ 20.4</td><td>0.36 $\\pm$ 0.04</td></tr>\n",
       "<tr><td>N II</td><td>1085.71</td><td>1085.66</td><td>-13.32</td><td>16.98 $\\pm$ 5.17</td><td>0.32 $\\pm$ 0.01</td><td>21.3 $\\pm$ 20.4</td><td>0.36 $\\pm$ 0.04</td></tr>\n",
       "<tr><td>Si III</td><td>1108.36</td><td>1108.35</td><td>-2.61</td><td>2.22 $\\pm$ 0.82</td><td>0.51 $\\pm$ 0.03</td><td>4.77 $\\pm$ 3.23</td><td>0.45 $\\pm$ 0.05</td></tr>\n",
       "<tr><td>Si III</td><td>1109.94</td><td>1109.95</td><td>0.0</td><td>3.69 $\\pm$ 0.75</td><td>0.45 $\\pm$ 0.01</td><td>7.17 $\\pm$ 2.96</td><td>0.35 $\\pm$ 0.02</td></tr>\n",
       "<tr><td>Si III</td><td>1113.2</td><td>1113.21</td><td>0.0</td><td>4.92 $\\pm$ 0.63</td><td>0.3 $\\pm$ 0.01</td><td>11.15 $\\pm$ 2.54</td><td>0.46 $\\pm$ 0.03</td></tr>\n",
       "<tr><td>C I</td><td>1114.39</td><td>1114.35</td><td>-10.38</td><td>1.64 $\\pm$ 0.59</td><td>0.62 $\\pm$ 0.05</td><td>2.04 $\\pm$ 2.33</td><td>0.47 $\\pm$ 0.07</td></tr>\n",
       "<tr><td>Fe XIX</td><td>1118.06</td><td>1118.02</td><td>-12.94</td><td>5.43 $\\pm$ 0.52</td><td>0.45 $\\pm$ 0.01</td><td>5.33 $\\pm$ 2.05</td><td>0.51 $\\pm$ 0.05</td></tr>\n",
       "<tr><td>O VI</td><td>1119.03</td><td>1119.03</td><td>0.0</td><td>2.12 $\\pm$ 0.5</td><td>0.35 $\\pm$ 0.02</td><td>2.7 $\\pm$ 1.97</td><td>0.43 $\\pm$ 0.05</td></tr>\n",
       "<tr><td>Si IV</td><td>1122.49</td><td>1122.47</td><td>-5.15</td><td>3.29 $\\pm$ 0.45</td><td>0.57 $\\pm$ 0.02</td><td>6.11 $\\pm$ 1.8</td><td>0.73 $\\pm$ 0.08</td></tr>\n",
       "<tr><td>Fe III</td><td>1124.88</td><td>1124.94</td><td>18.0</td><td>2.06 $\\pm$ 0.44</td><td>0.6 $\\pm$ 0.03</td><td>3.36 $\\pm$ 1.74</td><td>0.58 $\\pm$ 0.06</td></tr>\n",
       "<tr><td>Si IV</td><td>1128.34</td><td>1128.3</td><td>-12.82</td><td>3.06 $\\pm$ 0.36</td><td>0.54 $\\pm$ 0.03</td><td>6.14 $\\pm$ 1.44</td><td>0.49 $\\pm$ 0.05</td></tr>\n",
       "<tr><td>Fe III</td><td>1128.72</td><td>1128.63</td><td>-23.07</td><td>2.06 $\\pm$ 0.44</td><td>0.6 $\\pm$ 0.03</td><td>3.36 $\\pm$ 1.74</td><td>0.58 $\\pm$ 0.06</td></tr>\n",
       "<tr><td>Fe III</td><td>1129.19</td><td>1123.77</td><td>-1439.78</td><td>2.06 $\\pm$ 0.44</td><td>0.6 $\\pm$ 0.03</td><td>3.36 $\\pm$ 1.74</td><td>0.58 $\\pm$ 0.06</td></tr>\n",
       "<tr><td>Fe III</td><td>1130.4</td><td>1133.98</td><td>949.44</td><td>2.06 $\\pm$ 0.44</td><td>0.6 $\\pm$ 0.03</td><td>3.36 $\\pm$ 1.74</td><td>0.58 $\\pm$ 0.06</td></tr>\n",
       "<tr><td>Fe III</td><td>1131.2</td><td>1131.22</td><td>5.11</td><td>2.06 $\\pm$ 0.44</td><td>0.6 $\\pm$ 0.03</td><td>3.36 $\\pm$ 1.74</td><td>0.58 $\\pm$ 0.06</td></tr>\n",
       "<tr><td>Fe III</td><td>1131.92</td><td>1131.8</td><td>-33.22</td><td>2.06 $\\pm$ 0.44</td><td>0.6 $\\pm$ 0.03</td><td>3.36 $\\pm$ 1.74</td><td>0.58 $\\pm$ 0.06</td></tr>\n",
       "<tr><td>...</td><td>...</td><td>...</td><td>...</td><td>...</td><td>...</td><td>...</td><td>...</td></tr>\n",
       "<tr><td>C I</td><td>1329.58</td><td>1329.57</td><td>0.0</td><td>2.17 $\\pm$ 0.18</td><td>0.28 $\\pm$ 0.01</td><td>3.23 $\\pm$ 0.73</td><td>0.33 $\\pm$ 0.02</td></tr>\n",
       "<tr><td>Fe II</td><td>1330.95</td><td>1331.01</td><td>13.04</td><td>0.43 $\\pm$ 0.14</td><td>0.42 $\\pm$ 0.02</td><td>0.85 $\\pm$ 0.55</td><td>0.4 $\\pm$ 0.06</td></tr>\n",
       "<tr><td>C II</td><td>1334.53</td><td>1334.56</td><td>6.5</td><td>76.88 $\\pm$ 0.39</td><td>0.24 $\\pm$ 0.0</td><td>131.26 $\\pm$ 1.73</td><td>0.36 $\\pm$ 0.01</td></tr>\n",
       "<tr><td>C II</td><td>1335.71</td><td>1335.64</td><td>-15.16</td><td>149.19 $\\pm$ 0.44</td><td>0.29 $\\pm$ 0.0</td><td>222.51 $\\pm$ 1.96</td><td>0.37 $\\pm$ 0.01</td></tr>\n",
       "<tr><td>H2</td><td>1338.57</td><td>1338.49</td><td>-17.29</td><td>1.04 $\\pm$ 0.22</td><td>0.77 $\\pm$ 0.04</td><td>1.67 $\\pm$ 0.88</td><td>0.7 $\\pm$ 0.07</td></tr>\n",
       "<tr><td>S I</td><td>1340.85</td><td>1340.89</td><td>8.63</td><td>0.61 $\\pm$ 0.15</td><td>0.31 $\\pm$ 0.01</td><td>1.12 $\\pm$ 0.59</td><td>0.3 $\\pm$ 0.03</td></tr>\n",
       "<tr><td>H2</td><td>1342.26</td><td>1342.22</td><td>-8.62</td><td>0.68 $\\pm$ 0.16</td><td>0.4 $\\pm$ 0.02</td><td>1.31 $\\pm$ 0.65</td><td>0.34 $\\pm$ 0.03</td></tr>\n",
       "<tr><td>Si II</td><td>1346.87</td><td>1346.89</td><td>4.3</td><td>4.48 $\\pm$ 0.24</td><td>0.28 $\\pm$ 0.01</td><td>7.37 $\\pm$ 0.97</td><td>0.49 $\\pm$ 0.02</td></tr>\n",
       "<tr><td>Si I</td><td>1348.54</td><td>1348.5</td><td>-8.58</td><td>1.39 $\\pm$ 0.17</td><td>0.38 $\\pm$ 0.01</td><td>2.34 $\\pm$ 0.66</td><td>0.42 $\\pm$ 0.03</td></tr>\n",
       "<tr><td>Fe XII</td><td>1349.4</td><td>1349.26</td><td>-32.16</td><td>1.69 $\\pm$ 0.16</td><td>0.56 $\\pm$ 0.03</td><td>3.08 $\\pm$ 0.65</td><td>0.73 $\\pm$ 0.12</td></tr>\n",
       "<tr><td>C II</td><td>1351.66</td><td>1351.64</td><td>-4.28</td><td>7.39 $\\pm$ 0.26</td><td>0.19 $\\pm$ 0.0</td><td>7.61 $\\pm$ 1.01</td><td>0.21 $\\pm$ 0.01</td></tr>\n",
       "<tr><td>Fe XXI</td><td>1354.05</td><td>1354.07</td><td>2.14</td><td>7.68 $\\pm$ 0.31</td><td>0.59 $\\pm$ 0.01</td><td>7.82 $\\pm$ 1.2</td><td>0.71 $\\pm$ 0.03</td></tr>\n",
       "<tr><td>C I</td><td>1354.29</td><td>1354.2</td><td>-21.36</td><td>7.69 $\\pm$ 0.31</td><td>0.59 $\\pm$ 0.01</td><td>7.85 $\\pm$ 1.2</td><td>0.71 $\\pm$ 0.03</td></tr>\n",
       "<tr><td>O I</td><td>1355.6</td><td>1355.58</td><td>-2.13</td><td>7.12 $\\pm$ 0.28</td><td>0.33 $\\pm$ 0.01</td><td>9.27 $\\pm$ 1.1</td><td>0.44 $\\pm$ 0.02</td></tr>\n",
       "<tr><td>C I</td><td>1355.84</td><td>1355.79</td><td>-8.53</td><td>7.12 $\\pm$ 0.28</td><td>0.33 $\\pm$ 0.01</td><td>9.27 $\\pm$ 1.09</td><td>0.43 $\\pm$ 0.02</td></tr>\n",
       "<tr><td>C I</td><td>1357.13</td><td>1357.11</td><td>-4.26</td><td>1.31 $\\pm$ 0.2</td><td>0.34 $\\pm$ 0.01</td><td>1.84 $\\pm$ 0.78</td><td>0.41 $\\pm$ 0.03</td></tr>\n",
       "<tr><td>C I</td><td>1357.66</td><td>1357.63</td><td>-6.39</td><td>0.81 $\\pm$ 0.18</td><td>0.36 $\\pm$ 0.02</td><td>1.23 $\\pm$ 0.69</td><td>0.42 $\\pm$ 0.05</td></tr>\n",
       "<tr><td>O I</td><td>1358.51</td><td>1358.5</td><td>-2.13</td><td>2.13 $\\pm$ 0.22</td><td>0.23 $\\pm$ 0.01</td><td>2.61 $\\pm$ 0.87</td><td>0.27 $\\pm$ 0.02</td></tr>\n",
       "<tr><td>C I</td><td>1359.28</td><td>1359.27</td><td>-2.13</td><td>1.66 $\\pm$ 0.22</td><td>0.41 $\\pm$ 0.02</td><td>2.28 $\\pm$ 0.87</td><td>0.46 $\\pm$ 0.03</td></tr>\n",
       "</table></div>"
      ],
      "text/plain": [
       "<Table length=192>\n",
       "\\colhead{Ion} \\colhead{$\\lambda_\textrm{rest}$ [\\AA]} \\colhead{$\\lambda_\textrm{obs}$ [\\AA]} ... \\colhead{Flux (Flare B)} \\colhead{FWHM (Flare B)}\n",
       "    str10                    float64                                float64                ...          str20                    str20          \n",
       "------------- -------------------------------------- ------------------------------------- ... ------------------------ ------------------------\n",
       "         N II                                1083.99                               1083.99 ...         5.58 $\\pm$ 21.29          0.17 $\\pm$ 0.03\n",
       "         N II                                1084.58                               1084.57 ...         10.96 $\\pm$ 17.9          0.33 $\\pm$ 0.09\n",
       "        He II                                1084.94                               1084.92 ...         32.28 $\\pm$ 19.8          0.25 $\\pm$ 0.03\n",
       "         N II                                1085.54                               1085.56 ...          21.3 $\\pm$ 20.4          0.36 $\\pm$ 0.04\n",
       "         N II                                1085.71                               1085.66 ...          21.3 $\\pm$ 20.4          0.36 $\\pm$ 0.04\n",
       "       Si III                                1108.36                               1108.35 ...          4.77 $\\pm$ 3.23          0.45 $\\pm$ 0.05\n",
       "       Si III                                1109.94                               1109.95 ...          7.17 $\\pm$ 2.96          0.35 $\\pm$ 0.02\n",
       "       Si III                                 1113.2                               1113.21 ...         11.15 $\\pm$ 2.54          0.46 $\\pm$ 0.03\n",
       "          C I                                1114.39                               1114.35 ...          2.04 $\\pm$ 2.33          0.47 $\\pm$ 0.07\n",
       "       Fe XIX                                1118.06                               1118.02 ...          5.33 $\\pm$ 2.05          0.51 $\\pm$ 0.05\n",
       "         O VI                                1119.03                               1119.03 ...           2.7 $\\pm$ 1.97          0.43 $\\pm$ 0.05\n",
       "        Si IV                                1122.49                               1122.47 ...           6.11 $\\pm$ 1.8          0.73 $\\pm$ 0.08\n",
       "       Fe III                                1124.88                               1124.94 ...          3.36 $\\pm$ 1.74          0.58 $\\pm$ 0.06\n",
       "        Si IV                                1128.34                                1128.3 ...          6.14 $\\pm$ 1.44          0.49 $\\pm$ 0.05\n",
       "       Fe III                                1128.72                               1128.63 ...          3.36 $\\pm$ 1.74          0.58 $\\pm$ 0.06\n",
       "       Fe III                                1129.19                               1123.77 ...          3.36 $\\pm$ 1.74          0.58 $\\pm$ 0.06\n",
       "       Fe III                                 1130.4                               1133.98 ...          3.36 $\\pm$ 1.74          0.58 $\\pm$ 0.06\n",
       "       Fe III                                 1131.2                               1131.22 ...          3.36 $\\pm$ 1.74          0.58 $\\pm$ 0.06\n",
       "       Fe III                                1131.92                                1131.8 ...          3.36 $\\pm$ 1.74          0.58 $\\pm$ 0.06\n",
       "          ...                                    ...                                   ... ...                      ...                      ...\n",
       "          C I                                1329.58                               1329.57 ...          3.23 $\\pm$ 0.73          0.33 $\\pm$ 0.02\n",
       "        Fe II                                1330.95                               1331.01 ...          0.85 $\\pm$ 0.55           0.4 $\\pm$ 0.06\n",
       "         C II                                1334.53                               1334.56 ...        131.26 $\\pm$ 1.73          0.36 $\\pm$ 0.01\n",
       "         C II                                1335.71                               1335.64 ...        222.51 $\\pm$ 1.96          0.37 $\\pm$ 0.01\n",
       "           H2                                1338.57                               1338.49 ...          1.67 $\\pm$ 0.88           0.7 $\\pm$ 0.07\n",
       "          S I                                1340.85                               1340.89 ...          1.12 $\\pm$ 0.59           0.3 $\\pm$ 0.03\n",
       "           H2                                1342.26                               1342.22 ...          1.31 $\\pm$ 0.65          0.34 $\\pm$ 0.03\n",
       "        Si II                                1346.87                               1346.89 ...          7.37 $\\pm$ 0.97          0.49 $\\pm$ 0.02\n",
       "         Si I                                1348.54                                1348.5 ...          2.34 $\\pm$ 0.66          0.42 $\\pm$ 0.03\n",
       "       Fe XII                                 1349.4                               1349.26 ...          3.08 $\\pm$ 0.65          0.73 $\\pm$ 0.12\n",
       "         C II                                1351.66                               1351.64 ...          7.61 $\\pm$ 1.01          0.21 $\\pm$ 0.01\n",
       "       Fe XXI                                1354.05                               1354.07 ...           7.82 $\\pm$ 1.2          0.71 $\\pm$ 0.03\n",
       "          C I                                1354.29                                1354.2 ...           7.85 $\\pm$ 1.2          0.71 $\\pm$ 0.03\n",
       "          O I                                 1355.6                               1355.58 ...           9.27 $\\pm$ 1.1          0.44 $\\pm$ 0.02\n",
       "          C I                                1355.84                               1355.79 ...          9.27 $\\pm$ 1.09          0.43 $\\pm$ 0.02\n",
       "          C I                                1357.13                               1357.11 ...          1.84 $\\pm$ 0.78          0.41 $\\pm$ 0.03\n",
       "          C I                                1357.66                               1357.63 ...          1.23 $\\pm$ 0.69          0.42 $\\pm$ 0.05\n",
       "          O I                                1358.51                                1358.5 ...          2.61 $\\pm$ 0.87          0.27 $\\pm$ 0.02\n",
       "          C I                                1359.28                               1359.27 ...          2.28 $\\pm$ 0.87          0.46 $\\pm$ 0.03"
      ]
     },
     "execution_count": 55,
     "metadata": {},
     "output_type": "execute_result"
    }
   ],
   "source": [
    "tab"
   ]
  },
  {
   "cell_type": "code",
   "execution_count": null,
   "id": "8f06bc16",
   "metadata": {},
   "outputs": [],
   "source": []
  }
 ],
 "metadata": {
  "kernelspec": {
   "display_name": "Python 3 (ipykernel)",
   "language": "python",
   "name": "python3"
  },
  "language_info": {
   "codemirror_mode": {
    "name": "ipython",
    "version": 3
   },
   "file_extension": ".py",
   "mimetype": "text/x-python",
   "name": "python",
   "nbconvert_exporter": "python",
   "pygments_lexer": "ipython3",
   "version": "3.9.7"
  }
 },
 "nbformat": 4,
 "nbformat_minor": 5
}
