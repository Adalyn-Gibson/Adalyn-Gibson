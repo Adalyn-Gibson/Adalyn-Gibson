{
 "cells": [
  {
   "cell_type": "code",
   "execution_count": 8,
   "metadata": {},
   "outputs": [
    {
     "name": "stdout",
     "output_type": "stream",
     "text": [
      "The autoreload extension is already loaded. To reload it, use:\n",
      "  %reload_ext autoreload\n"
     ]
    },
    {
     "ename": "ModuleNotFoundError",
     "evalue": "No module named 'calcos'",
     "output_type": "error",
     "traceback": [
      "\u001b[0;31m---------------------------------------------------------------------------\u001b[0m",
      "\u001b[0;31mModuleNotFoundError\u001b[0m                       Traceback (most recent call last)",
      "\u001b[0;32m/var/folders/gz/h7_ym7m52dlgq4xpllc1x3m40000gn/T/ipykernel_41986/3188343080.py\u001b[0m in \u001b[0;36m<module>\u001b[0;34m\u001b[0m\n\u001b[1;32m     15\u001b[0m \u001b[0mget_ipython\u001b[0m\u001b[0;34m(\u001b[0m\u001b[0;34m)\u001b[0m\u001b[0;34m.\u001b[0m\u001b[0mrun_line_magic\u001b[0m\u001b[0;34m(\u001b[0m\u001b[0;34m'autoreload'\u001b[0m\u001b[0;34m,\u001b[0m \u001b[0;34m'2'\u001b[0m\u001b[0;34m)\u001b[0m\u001b[0;34m\u001b[0m\u001b[0;34m\u001b[0m\u001b[0m\n\u001b[1;32m     16\u001b[0m \u001b[0msys\u001b[0m\u001b[0;34m.\u001b[0m\u001b[0mpath\u001b[0m\u001b[0;34m.\u001b[0m\u001b[0mappend\u001b[0m\u001b[0;34m(\u001b[0m\u001b[0;34m'/Users/arcticfox/Documents/GitHub/cos_flares/src'\u001b[0m\u001b[0;34m)\u001b[0m\u001b[0;34m\u001b[0m\u001b[0;34m\u001b[0m\u001b[0m\n\u001b[0;32m---> 17\u001b[0;31m \u001b[0;32mfrom\u001b[0m \u001b[0mcos_reduction\u001b[0m \u001b[0;32mimport\u001b[0m \u001b[0;34m*\u001b[0m\u001b[0;34m\u001b[0m\u001b[0;34m\u001b[0m\u001b[0m\n\u001b[0m\u001b[1;32m     18\u001b[0m \u001b[0;32mfrom\u001b[0m \u001b[0mutils\u001b[0m \u001b[0;32mimport\u001b[0m \u001b[0;34m*\u001b[0m\u001b[0;34m\u001b[0m\u001b[0;34m\u001b[0m\u001b[0m\n\u001b[1;32m     19\u001b[0m \u001b[0;34m\u001b[0m\u001b[0m\n",
      "\u001b[0;32m~/Documents/GitHub/cos_flares/src/cos_reduction.py\u001b[0m in \u001b[0;36m<module>\u001b[0;34m\u001b[0m\n\u001b[0;32m----> 1\u001b[0;31m \u001b[0;32mimport\u001b[0m \u001b[0mcalcos\u001b[0m\u001b[0;34m\u001b[0m\u001b[0;34m\u001b[0m\u001b[0m\n\u001b[0m\u001b[1;32m      2\u001b[0m \u001b[0;32mimport\u001b[0m \u001b[0mos\u001b[0m\u001b[0;34m,\u001b[0m \u001b[0msys\u001b[0m\u001b[0;34m\u001b[0m\u001b[0;34m\u001b[0m\u001b[0m\n\u001b[1;32m      3\u001b[0m \u001b[0;32mimport\u001b[0m \u001b[0mnumpy\u001b[0m \u001b[0;32mas\u001b[0m \u001b[0mnp\u001b[0m\u001b[0;34m\u001b[0m\u001b[0;34m\u001b[0m\u001b[0m\n\u001b[1;32m      4\u001b[0m \u001b[0;32mfrom\u001b[0m \u001b[0mtqdm\u001b[0m \u001b[0;32mimport\u001b[0m \u001b[0mtqdm\u001b[0m\u001b[0;34m\u001b[0m\u001b[0;34m\u001b[0m\u001b[0m\n\u001b[1;32m      5\u001b[0m \u001b[0;32mfrom\u001b[0m \u001b[0mastropy\u001b[0m \u001b[0;32mimport\u001b[0m \u001b[0munits\u001b[0m\u001b[0;34m\u001b[0m\u001b[0;34m\u001b[0m\u001b[0m\n",
      "\u001b[0;31mModuleNotFoundError\u001b[0m: No module named 'calcos'"
     ]
    }
   ],
   "source": [
    "import os, sys\n",
    "import numpy as np\n",
    "from astropy.io import fits\n",
    "from astropy.table import Table\n",
    "import matplotlib.pyplot as plt\n",
    "from astropy import units\n",
    "from tqdm import tqdm_notebook\n",
    "from lightkurve.lightcurve import LightCurve\n",
    "from scipy.interpolate import interp1d\n",
    "\n",
    "#from costools import timefilter, splittag\n",
    "#import calcos\n",
    "\n",
    "%load_ext autoreload\n",
    "%autoreload 2\n",
    "sys.path.append('/Users/arcticfox/Documents/GitHub/cos_flares/src')\n",
    "from cos_reduction import *\n",
    "from utils import *\n",
    "\n",
    "## PROPOSAL ID 16164\n",
    "plt.rcParams['font.size']=24\n",
    "\n",
    "rootname = ['lebb01s7q', 'lebb01sbq', 'lebb01sdq', 'lebb01siq', 'lebb01smq']\n",
    "rootname = ['lebb03xpq', 'lebb03xrq', 'lebb03xtq', 'lebb03xvq', 'lebb03xxq']"
   ]
  },
  {
   "cell_type": "raw",
   "metadata": {},
   "source": [
    "%load_ext autoreload\n",
    "%autoreload 2\n",
    "sys.path.append('/Users/arcticfox/Documents/GitHub/cos_flares/src')\n",
    "from cos_reduction import *"
   ]
  },
  {
   "cell_type": "code",
   "execution_count": null,
   "metadata": {},
   "outputs": [],
   "source": [
    "cr = cosReduce(rootname=rootname, \n",
    "               input_path='/Users/arcticfox/Documents/AUMic/rawfiles/')"
   ]
  },
  {
   "cell_type": "code",
   "execution_count": null,
   "metadata": {
    "scrolled": true
   },
   "outputs": [],
   "source": [
    "cr.split_corrtag(output_path='/Users/arcticfox/Documents/AUMic/20s/splittag2', increment=30)"
   ]
  },
  {
   "cell_type": "code",
   "execution_count": null,
   "metadata": {
    "scrolled": false
   },
   "outputs": [],
   "source": [
    "cr.check_ref_files(path='/Users/arcticfox/Documents/AUMic/lref/')"
   ]
  },
  {
   "cell_type": "code",
   "execution_count": null,
   "metadata": {},
   "outputs": [],
   "source": [
    "cr.reduce_data(output_path='/Users/arcticfox/Documents/AUMic/20s/reduced2')"
   ]
  },
  {
   "cell_type": "code",
   "execution_count": null,
   "metadata": {},
   "outputs": [],
   "source": [
    "cr.path_a = '/Users/arcticfox/Documents/AUMic/30s/reduced2/a'\n",
    "cr.path_b = '/Users/arcticfox/Documents/AUMic/30s/reduced2/b'\n",
    "cr.bookkeeping()"
   ]
  },
  {
   "cell_type": "code",
   "execution_count": null,
   "metadata": {},
   "outputs": [],
   "source": [
    "cr.interpolate(offset=0.03)\n",
    "#cr.bin()\n",
    "np.save('/Users/arcticfox/Documents/AUMic/30s/reduced2/data_a.npy', [cr.wavelength,\n",
    "                                                                         cr.flux,\n",
    "                                                                         cr.flux_err])\n",
    "#cr.interpolate()\n",
    "#cr.bin()\n",
    "#np.save('/Users/arcticfox/Documents/AUMic/20s/reduced/data_b.npy', [cr.wavelength,\n",
    "#                                                                         cr.flux,\n",
    "#                                                                         cr.flux_err])"
   ]
  },
  {
   "cell_type": "code",
   "execution_count": null,
   "metadata": {},
   "outputs": [],
   "source": [
    "np.save('/Users/arcticfox/Documents/AUMic/20s/reduced/orbits.npy', cr.orbit)"
   ]
  },
  {
   "cell_type": "code",
   "execution_count": null,
   "metadata": {},
   "outputs": [],
   "source": [
    "np.save('/Users/arcticfox/Documents/AUMic/20s/reduced/times.npy', cr.times)"
   ]
  },
  {
   "cell_type": "markdown",
   "metadata": {},
   "source": [
    "## Visit 2 reduction"
   ]
  },
  {
   "cell_type": "code",
   "execution_count": null,
   "metadata": {},
   "outputs": [],
   "source": [
    "cr.split_corrtag(output_path='/Users/arcticfox/Documents/AUMic/20s/splittag2', increment=20)"
   ]
  },
  {
   "cell_type": "code",
   "execution_count": null,
   "metadata": {},
   "outputs": [],
   "source": [
    "cr.check_ref_files(path='/Users/arcticfox/Documents/AUMic/lref/')"
   ]
  },
  {
   "cell_type": "code",
   "execution_count": null,
   "metadata": {},
   "outputs": [],
   "source": [
    "cr.reduce_data(output_path='/Users/arcticfox/Documents/AUMic/20s/reduced2')"
   ]
  },
  {
   "cell_type": "code",
   "execution_count": null,
   "metadata": {},
   "outputs": [],
   "source": [
    "cr.bookkeeping()"
   ]
  },
  {
   "cell_type": "code",
   "execution_count": null,
   "metadata": {},
   "outputs": [],
   "source": [
    "cr.interpolate()\n",
    "#cr.bin()\n",
    "np.save('/Users/arcticfox/Documents/AUMic/20s/reduced2/data_a.npy', [cr.wavelength,\n",
    "                                                                         cr.flux,\n",
    "                                                                         cr.flux_err])\n",
    "cr.interpolate()\n",
    "#cr.bin()\n",
    "np.save('/Users/arcticfox/Documents/AUMic/20s/reduced2/data_b.npy', [cr.wavelength,\n",
    "                                                                         cr.flux,\n",
    "                                                                         cr.flux_err])"
   ]
  },
  {
   "cell_type": "code",
   "execution_count": null,
   "metadata": {},
   "outputs": [],
   "source": [
    "np.save('/Users/arcticfox/Documents/AUMic/20s/reduced/2orbits.npy', cr.orbit)\n",
    "np.save('/Users/arcticfox/Documents/AUMic/20s/reduced2/times.npy', cr.times)"
   ]
  },
  {
   "cell_type": "markdown",
   "metadata": {},
   "source": [
    "## Better calibration of wavelength\n",
    "\n",
    "cross-correlating to find the wavelength offset between visits"
   ]
  },
  {
   "cell_type": "code",
   "execution_count": 12,
   "metadata": {},
   "outputs": [],
   "source": [
    "from scipy.signal import correlate2d, correlate, correlation_lags\n",
    "from specutils import analysis, Spectrum1D\n",
    "from specutils.analysis import template_correlate\n",
    "from astropy.nddata import StdDevUncertainty\n",
    "import numpy as np\n",
    "import os\n",
    "from tqdm import tqdm_notebook\n",
    "from astropy.io import fits"
   ]
  },
  {
   "cell_type": "code",
   "execution_count": 13,
   "metadata": {},
   "outputs": [],
   "source": [
    "path1 = '/Users/arcticfox/Documents/AUMic/30s/reduced/a'\n",
    "files1 = np.sort([os.path.join(path1,i) for i in os.listdir(path1) if i.endswith('x1d.fits')])\n",
    "\n",
    "path2 = '/Users/arcticfox/Documents/AUMic/30s/reduced2/a'\n",
    "files2 = np.sort([os.path.join(path2,i) for i in os.listdir(path2) if i.endswith('x1d.fits')])"
   ]
  },
  {
   "cell_type": "code",
   "execution_count": 20,
   "metadata": {},
   "outputs": [
    {
     "name": "stdout",
     "output_type": "stream",
     "text": [
      "[4.1097269e-12 4.1097399e-12 4.1097529e-12 ... 4.6849636e-14 4.6849636e-14\n",
      " 4.6849636e-14]\n",
      "[5.2095467e-14 5.2095599e-14 5.2095731e-14 ... 6.0200495e-14 6.0200495e-14\n",
      " 6.0200495e-14]\n"
     ]
    }
   ],
   "source": [
    "for i in range(len(files1)):\n",
    "    hdu = fits.getdata(files1[i])\n",
    "    wc = np.append(hdu['wavelength'][1], hdu['wavelength'][0])\n",
    "    fx = np.append(hdu['flux'][1], hdu['flux'][0])\n",
    "    er = np.append(hdu['error'][1], hdu['error'][0])\n",
    "    if i == 0:\n",
    "        wave1 = np.zeros((len(files1), len(wc)))\n",
    "        flux1 = np.zeros((len(files1), len(wc)))\n",
    "        err1 = np.zeros((len(files1), len(wc)))\n",
    "        print(hdu['error'][1])\n",
    "        print(hdu['error'][0])\n",
    "    wave1[i] = wc\n",
    "    flux1[i] = fx\n",
    "    err1[i]  = er"
   ]
  },
  {
   "cell_type": "code",
   "execution_count": 17,
   "metadata": {},
   "outputs": [],
   "source": [
    "for i in range(len(files2)):\n",
    "    hdu = fits.getdata(files2[i])\n",
    "    wc = np.append(hdu['wavelength'][1], hdu['wavelength'][0])\n",
    "    fx = np.append(hdu['flux'][1], hdu['flux'][0])\n",
    "    er = np.append(hdu['error'][1], hdu['error'][0])\n",
    "    if i == 0:\n",
    "        wave2 = np.zeros((len(files2), len(wc)))\n",
    "        flux2 = np.zeros((len(files1), len(wc)))\n",
    "        err2 = np.zeros((len(files1), len(wc)))\n",
    "    wave2[i] = wc\n",
    "    flux2[i] = fx\n",
    "    err2[i]  = er"
   ]
  },
  {
   "cell_type": "code",
   "execution_count": null,
   "metadata": {},
   "outputs": [],
   "source": [
    "def fit_maximum(x, y):\n",
    "    fit = np.polyfit(x, y, deg=2)\n",
    "    return fit"
   ]
  },
  {
   "cell_type": "code",
   "execution_count": null,
   "metadata": {},
   "outputs": [],
   "source": [
    "corr = np.correlate(np.nanmean(flux1,axis=0) - np.nanmedian(np.nanmean(flux1,axis=0)), \n",
    "                    np.nanmean(flux2,axis=0) - np.nanmedian(np.nanmean(flux2,axis=0)), \n",
    "                    mode='same')\n",
    "c = np.arange(np.argmax(corr)-4, np.argmax(corr)+5,1,dtype=int)\n",
    "\n",
    "fit = fit_maximum(c-np.argmax(corr), corr[c])\n",
    "maximum = -fit[1]/(2*fit[0]) "
   ]
  },
  {
   "cell_type": "code",
   "execution_count": null,
   "metadata": {},
   "outputs": [],
   "source": [
    "corr = correlate(np.nanmean(flux1,axis=0) - np.nanmedian(np.nanmean(flux1,axis=0)), \n",
    "                    np.nanmean(flux2,axis=0) - np.nanmedian(np.nanmean(flux2,axis=0)))\n",
    "lags = correlation_lags(len(np.nanmean(flux1,axis=0)),\n",
    "                        len(np.nanmean(flux2,axis=0)))"
   ]
  },
  {
   "cell_type": "code",
   "execution_count": null,
   "metadata": {},
   "outputs": [],
   "source": [
    "corr, lag = template_correlate(spect1, spect2)"
   ]
  },
  {
   "cell_type": "code",
   "execution_count": null,
   "metadata": {},
   "outputs": [],
   "source": [
    "wave_range = [np.nanmax(wave1[:,0]), np.nanmax(wave2[:,-1])]"
   ]
  },
  {
   "cell_type": "code",
   "execution_count": null,
   "metadata": {},
   "outputs": [],
   "source": [
    "interp1 = interp1d(wave1[0], flux1[0])\n",
    "q = (wave2[0]>wave_range[0]) & (wave2[0]<wave_range[-1])\n",
    "interp1(wave2[0][q])"
   ]
  },
  {
   "cell_type": "code",
   "execution_count": null,
   "metadata": {},
   "outputs": [],
   "source": [
    "plt.plot(np.nanmedian(wave1,axis=0), np.nanmean(flux1,axis=0))\n",
    "plt.plot(np.nanmedian(wave2,axis=0)-0.03, np.nanmean(flux2,axis=0))\n",
    "plt.xlim(1263.738,1265.738)\n",
    "plt.ylim(1e-15,0.4e-13)"
   ]
  },
  {
   "cell_type": "markdown",
   "metadata": {},
   "source": [
    "## Checking binning"
   ]
  },
  {
   "cell_type": "code",
   "execution_count": null,
   "metadata": {},
   "outputs": [],
   "source": [
    "def load_data(path):\n",
    "    wavelength, flux, err = load_binned_data(os.path.join(path,'data_a.npy'))\n",
    "\n",
    "    times = np.load(os.path.join(path,'times.npy'))\n",
    "    orbits = np.load(os.path.join(path,'orbits.npy'))\n",
    "\n",
    "    wavelength = np.full(flux.shape, wavelength)\n",
    "    return wavelength, flux, err, times, orbits\n",
    "\n",
    "w20, f20, e20, t20, o20 = load_data(path='/Users/arcticfox/Documents/AUMic/30s/reduced')\n",
    "w30, f30, e30, t30, o30 = load_data(path='/Users/arcticfox/Documents/AUMic/30s/reduced2')"
   ]
  },
  {
   "cell_type": "code",
   "execution_count": null,
   "metadata": {},
   "outputs": [],
   "source": [
    "plt.plot(w20[0], np.nanmean(f20, axis=0))\n",
    "plt.plot(w30[0]-0.06, np.nanmean(f30, axis=0))\n",
    "plt.xlim(1263.738,1265.738)\n",
    "plt.ylim(1e-15,0.4e-13)"
   ]
  },
  {
   "cell_type": "code",
   "execution_count": null,
   "metadata": {},
   "outputs": [],
   "source": [
    "new_wave = np.linspace(w20[0][1], w30[0][-2]-0.06,len(w20[0]))"
   ]
  },
  {
   "cell_type": "code",
   "execution_count": null,
   "metadata": {},
   "outputs": [],
   "source": [
    "nf1, nf2 = np.zeros(f20.shape), np.zeros(f30.shape)\n",
    "ne1, ne2 = np.zeros(f20.shape), np.zeros(f30.shape)\n",
    "\n",
    "for i in tqdm_notebook(range(len(w20))):\n",
    "    interp1 = interp1d(w20[i], f20[i])\n",
    "    interp2 = interp1d(w30[i]-0.06, f30[i])\n",
    "    \n",
    "    nf1[i] = interp1(new_wave)\n",
    "    nf2[i] = interp2(new_wave)\n",
    "    \n",
    "    interp1 = interp1d(w20[i], e20[i])\n",
    "    interp2 = interp1d(w30[i]-0.06, e30[i])\n",
    "    \n",
    "    ne1[i] = interp1(new_wave)\n",
    "    ne2[i] = interp2(new_wave)"
   ]
  },
  {
   "cell_type": "code",
   "execution_count": null,
   "metadata": {},
   "outputs": [],
   "source": [
    "plt.plot(new_wave, np.nanmean(nf1, axis=0))\n",
    "plt.plot(new_wave, np.nanmean(nf2, axis=0))\n",
    "plt.xlim(1294.548-1,1294.548+1)\n",
    "plt.ylim(1e-15,0.4e-13)"
   ]
  },
  {
   "cell_type": "code",
   "execution_count": null,
   "metadata": {},
   "outputs": [],
   "source": [
    "np.save('/Users/arcticfox/Documents/AUMic/30s/reduced/interp_between_1.npy',\n",
    "        [np.full(w20.shape, new_wave), nf1, ne1])\n",
    "np.save('/Users/arcticfox/Documents/AUMic/30s/reduced2/interp_between_1.npy',\n",
    "        [np.full(w30.shape, new_wave), nf2, ne2])"
   ]
  },
  {
   "cell_type": "code",
   "execution_count": null,
   "metadata": {},
   "outputs": [],
   "source": []
  }
 ],
 "metadata": {
  "kernelspec": {
   "display_name": "Python [conda env:python37]",
   "language": "python",
   "name": "conda-env-python37-py"
  },
  "language_info": {
   "codemirror_mode": {
    "name": "ipython",
    "version": 3
   },
   "file_extension": ".py",
   "mimetype": "text/x-python",
   "name": "python",
   "nbconvert_exporter": "python",
   "pygments_lexer": "ipython3",
   "version": "3.7.3"
  }
 },
 "nbformat": 4,
 "nbformat_minor": 2
}
